{
 "cells": [
  {
   "cell_type": "markdown",
   "id": "e7efaacf",
   "metadata": {},
   "source": [
    "# SQL Relaciones"
   ]
  },
  {
   "cell_type": "markdown",
   "id": "390a107b",
   "metadata": {},
   "source": [
    "### INNER JOIN"
   ]
  },
  {
   "cell_type": "markdown",
   "id": "bc88f293",
   "metadata": {},
   "source": [
    "![Diagrama de Inner Join](img/inner_join.png)"
   ]
  },
  {
   "cell_type": "markdown",
   "id": "ee9534ce",
   "metadata": {},
   "source": [
    "### LEFT JOIN"
   ]
  },
  {
   "cell_type": "markdown",
   "id": "1c18a8d2",
   "metadata": {},
   "source": [
    "![Diagrama de Left Join](img/left_join.png)"
   ]
  },
  {
   "cell_type": "markdown",
   "id": "0b94c3dd",
   "metadata": {
    "attributes": {
     "classes": [
      "sql"
     ],
     "id": ""
    }
   },
   "source": [
    "### RIGHT JOIN"
   ]
  },
  {
   "cell_type": "markdown",
   "id": "8ef5fdbc",
   "metadata": {},
   "source": [
    "![Diagrama de Right Join](img/right_join.png)"
   ]
  },
  {
   "cell_type": "markdown",
   "id": "1a995599",
   "metadata": {},
   "source": [
    "### FULL JOIN"
   ]
  },
  {
   "cell_type": "markdown",
   "id": "7442c1de",
   "metadata": {},
   "source": [
    "![Diagrama de Full Join](img/full_join.png)"
   ]
  },
  {
   "cell_type": "markdown",
   "id": "01b2b5f0",
   "metadata": {},
   "source": [
    "### CROSS JOIN"
   ]
  },
  {
   "cell_type": "markdown",
   "id": "5529fa80",
   "metadata": {},
   "source": [
    "![Diagrama de Cross Join](img/cross_join.png)"
   ]
  }
 ],
 "metadata": {
  "kernelspec": {
   "display_name": "base",
   "language": "python",
   "name": "python3"
  },
  "language_info": {
   "codemirror_mode": {
    "name": "ipython",
    "version": 3
   },
   "file_extension": ".py",
   "mimetype": "text/x-python",
   "name": "python",
   "nbconvert_exporter": "python",
   "pygments_lexer": "ipython3",
   "version": "3.9.13"
  }
 },
 "nbformat": 4,
 "nbformat_minor": 5
}
